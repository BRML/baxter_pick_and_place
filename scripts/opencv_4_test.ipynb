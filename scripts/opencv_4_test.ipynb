{
 "cells": [
  {
   "cell_type": "code",
   "execution_count": 1,
   "metadata": {
    "collapsed": true
   },
   "outputs": [],
   "source": [
    "import cv2\n",
    "import glob\n",
    "import os"
   ]
  },
  {
   "cell_type": "markdown",
   "metadata": {},
   "source": [
    "# Test cascade classifier on non-augmented data\n",
    "\n",
    "As described [here](http://docs.opencv.org/master/d7/d8b/tutorial_py_face_detection.html#gsc.tab=0)."
   ]
  },
  {
   "cell_type": "code",
   "execution_count": 2,
   "metadata": {
    "collapsed": true
   },
   "outputs": [],
   "source": [
    "obj = 'duplo_brick'"
   ]
  },
  {
   "cell_type": "code",
   "execution_count": 3,
   "metadata": {
    "collapsed": false
   },
   "outputs": [
    {
     "name": "stdout",
     "output_type": "stream",
     "text": [
      "\\\\srv-file.brml.tum.de\\nthome\\mludersdorfer\\reallyMyDocuments\\code\\baxter_pick_and_place\n"
     ]
    }
   ],
   "source": [
    "if os.name == 'posix':\n",
    "    code_dirname = os.path.join(u'/home', 'baxter', 'ros_ws', 'src')\n",
    "elif os.name == 'nt':\n",
    "    code_dirname = os.path.join(u'\\\\\\srv-file.brml.tum.de', 'nthome', 'mludersdorfer', 'reallyMyDocuments', 'code')\n",
    "else:\n",
    "    print 'wtf?'\n",
    "\n",
    "package_dirname = os.path.join(code_dirname, 'baxter_pick_and_place')\n",
    "print package_dirname"
   ]
  },
  {
   "cell_type": "code",
   "execution_count": 4,
   "metadata": {
    "collapsed": false
   },
   "outputs": [
    {
     "name": "stdout",
     "output_type": "stream",
     "text": [
      "\\\\srv-file.brml.tum.de\\nthome\\mludersdorfer\\reallyMyDocuments\\code\\baxter_pick_and_place\\data\\sdd\\negative\n",
      "\\\\srv-file.brml.tum.de\\nthome\\mludersdorfer\\reallyMyDocuments\\code\\baxter_pick_and_place\\data\\sdd\\positive\n"
     ]
    }
   ],
   "source": [
    "base_dirname = os.path.join(package_dirname, 'data', 'sdd')\n",
    "negative_dirname = os.path.join(base_dirname, 'negative')\n",
    "positive_dirname = os.path.join(base_dirname, 'positive')\n",
    "print negative_dirname\n",
    "print positive_dirname"
   ]
  },
  {
   "cell_type": "code",
   "execution_count": 5,
   "metadata": {
    "collapsed": true
   },
   "outputs": [],
   "source": [
    "cascade_filename = os.path.join(package_dirname, \n",
    "                                'data', 'synthetic_demo_data', \n",
    "                                '%s_cascade.xml' % obj)\n",
    "cascade = cv2.CascadeClassifier(cascade_filename)"
   ]
  },
  {
   "cell_type": "markdown",
   "metadata": {},
   "source": [
    "## Test on positive samples"
   ]
  },
  {
   "cell_type": "code",
   "execution_count": 6,
   "metadata": {
    "collapsed": false
   },
   "outputs": [
    {
     "name": "stdout",
     "output_type": "stream",
     "text": [
      "Found 25 positive samples.\n"
     ]
    }
   ],
   "source": [
    "positive_samples = glob.glob(os.path.join(positive_dirname, \n",
    "                                          '%s*' % obj, '*.jpg'))\n",
    "positive_samples = [positive_samples[idx] \n",
    "                    for idx in range(len(positive_samples)) \n",
    "                    if 'roi' not in positive_samples[idx]]\n",
    "print \"Found %i positive samples.\" % len(positive_samples)"
   ]
  },
  {
   "cell_type": "code",
   "execution_count": 8,
   "metadata": {
    "collapsed": false
   },
   "outputs": [],
   "source": [
    "cv2.namedWindow('detection', cv2.WINDOW_AUTOSIZE)  # CV_WINDOW_AUTOSIZE\n",
    "cv2.startWindowThread()\n",
    "\n",
    "for ps in positive_samples:\n",
    "    img = cv2.imread(ps)\n",
    "    gray = cv2.cvtColor(img, cv2.COLOR_BGR2GRAY)\n",
    "    \n",
    "    rects = cascade.detectMultiScale(gray, \n",
    "                                     scaleFactor=2.0, minNeighbors=5, \n",
    "                                     minSize=(200, 200))\n",
    "    for x, y, w, h in rects:\n",
    "        cv2.rectangle(img, (x, y), (x+w, y+h), (255, 0 , 0), 2)\n",
    "    cv2.imshow('detection', img)\n",
    "    cv2.waitKey(0)\n",
    "\n",
    "cv2.destroyAllWindows()"
   ]
  },
  {
   "cell_type": "markdown",
   "metadata": {},
   "source": [
    "## Test on negative samples"
   ]
  },
  {
   "cell_type": "code",
   "execution_count": 9,
   "metadata": {
    "collapsed": false
   },
   "outputs": [
    {
     "name": "stdout",
     "output_type": "stream",
     "text": [
      "Found 75 negative (background) samples.\n"
     ]
    }
   ],
   "source": [
    "negative_samples = glob.glob(os.path.join(negative_dirname, '*.jpg'))\n",
    "print \"Found %i negative (background) samples.\" % len(negative_samples)"
   ]
  },
  {
   "cell_type": "code",
   "execution_count": 10,
   "metadata": {
    "collapsed": true
   },
   "outputs": [],
   "source": [
    "cv2.namedWindow('detection', cv2.WINDOW_AUTOSIZE)\n",
    "cv2.startWindowThread()\n",
    "\n",
    "for ns in negative_samples[:10]:\n",
    "    img = cv2.imread(ns)\n",
    "    gray = cv2.cvtColor(img, cv2.COLOR_BGR2GRAY)\n",
    "    \n",
    "    rects = cascade.detectMultiScale(gray, \n",
    "                                     scaleFactor=2.0, minNeighbors=4,\n",
    "                                     minSize=(150, 150))\n",
    "    for x, y, w, h in rects:\n",
    "        cv2.rectangle(img, (x, y), (x+w, y+h), (255, 0 , 0), 2)\n",
    "    cv2.imshow('detection', img)\n",
    "    cv2.waitKey(0)\n",
    "\n",
    "cv2.destroyAllWindows()"
   ]
  },
  {
   "cell_type": "code",
   "execution_count": null,
   "metadata": {
    "collapsed": true
   },
   "outputs": [],
   "source": []
  }
 ],
 "metadata": {
  "kernelspec": {
   "display_name": "Python 2",
   "language": "python",
   "name": "python2"
  },
  "language_info": {
   "codemirror_mode": {
    "name": "ipython",
    "version": 2
   },
   "file_extension": ".py",
   "mimetype": "text/x-python",
   "name": "python",
   "nbconvert_exporter": "python",
   "pygments_lexer": "ipython2",
   "version": "2.7.7"
  }
 },
 "nbformat": 4,
 "nbformat_minor": 0
}
