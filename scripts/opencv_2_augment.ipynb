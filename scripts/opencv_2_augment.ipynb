{
 "cells": [
  {
   "cell_type": "code",
   "execution_count": 51,
   "metadata": {
    "collapsed": true
   },
   "outputs": [],
   "source": [
    "import cv2\n",
    "from IPython.display import display\n",
    "from ipywidgets import FloatProgress\n",
    "import glob\n",
    "import os\n",
    "from shutil import rmtree\n",
    "from subprocess import call\n",
    "import time"
   ]
  },
  {
   "cell_type": "markdown",
   "metadata": {},
   "source": [
    "# Augment data set\n",
    "\n",
    "As described [here](http://docs.opencv.org/2.4/doc/user_guide/ug_traincascade.html#creating-training-set-from-a-single-image-and-a-collection-of-backgrounds-with-a-single-vec-file-as-an-output)."
   ]
  },
  {
   "cell_type": "code",
   "execution_count": 52,
   "metadata": {
    "collapsed": true
   },
   "outputs": [],
   "source": [
    "obj = 'robot'"
   ]
  },
  {
   "cell_type": "code",
   "execution_count": null,
   "metadata": {
    "collapsed": true
   },
   "outputs": [],
   "source": [
    "if os.name == 'posix':\n",
    "    code_dirname = os.path.join(u'/home', 'baxter', 'ros_ws', 'src')\n",
    "elif os.name == 'nt':\n",
    "    code_dirname = os.path.join(u'\\\\\\srv-file.brml.tum.de', 'nthome', 'mludersdorfer', 'reallyMyDocuments', 'code')\n",
    "else:\n",
    "    print 'wtf?'\n",
    "\n",
    "package_dirname = os.path.join(code_dirname, 'baxter_pick_and_place')\n",
    "print package_dirname"
   ]
  },
  {
   "cell_type": "markdown",
   "metadata": {},
   "source": [
    "## Create cut-out base images from *_info.dat\n",
    "\n",
    "Which was created with `opencv_1_dat_pos.ipynb`."
   ]
  },
  {
   "cell_type": "code",
   "execution_count": 53,
   "metadata": {
    "collapsed": false
   },
   "outputs": [],
   "source": [
    "positive_dirname = os.path.join(package_dirname, 'data', 'sdd')\n",
    "\n",
    "base_dirname = os.path.join(package_dirname, \n",
    "                            'data', 'synthetic_demo_data')\n",
    "out_dirname = os.path.join(base_dirname, 'base', obj)\n",
    "annotations_dirname = os.path.join(base_dirname, obj)\n",
    "                           \n",
    "if not os.path.exists(out_dirname):\n",
    "    os.makedirs(out_dirname)\n",
    "if os.path.exists(annotations_dirname):\n",
    "    rmtree(annotations_dirname)\n",
    "os.makedirs(annotations_dirname)"
   ]
  },
  {
   "cell_type": "code",
   "execution_count": 54,
   "metadata": {
    "collapsed": false,
    "scrolled": false
   },
   "outputs": [
    {
     "name": "stdout",
     "output_type": "stream",
     "text": [
      "Wrote 25 cut-out images into /home/baxter/ros_ws/src/baxter_pick_and_place/data/synthetic_demo_data/base/robot.\n"
     ]
    }
   ],
   "source": [
    "info_filename = os.path.join(positive_dirname, '%s_info.dat' % obj)\n",
    "\n",
    "with open(info_filename, 'r') as fp:\n",
    "    info = fp.read().splitlines()\n",
    "\n",
    "for i in info:\n",
    "    pth, _, roi = i.split('  ')\n",
    "    img = cv2.imread(positive_dirname + pth)\n",
    "    roi = [int(a) for a in roi.split(' ')]\n",
    "    x, y, w, h = roi\n",
    "    img = img[y:y+h, x:x+w]\n",
    "    cv2.imwrite(os.path.join(out_dirname, pth.split('/')[-1]), img)\n",
    "print \"Wrote %i cut-out images into %s.\" % (len(info), out_dirname)"
   ]
  },
  {
   "cell_type": "markdown",
   "metadata": {},
   "source": [
    "## Augment cut-out images"
   ]
  },
  {
   "cell_type": "code",
   "execution_count": 55,
   "metadata": {
    "collapsed": false
   },
   "outputs": [
    {
     "name": "stdout",
     "output_type": "stream",
     "text": [
      "Found 25 cut-out 'robot'-samples.\n"
     ]
    }
   ],
   "source": [
    "base_images = glob.glob(os.path.join(out_dirname, '*.jpg'))\n",
    "print \"Found %i cut-out '%s'-samples.\" % (len(base_images), obj)"
   ]
  },
  {
   "cell_type": "code",
   "execution_count": 56,
   "metadata": {
    "collapsed": true
   },
   "outputs": [],
   "source": [
    "num = 40  # number of augmentations per base-image\n",
    "w = 20  # rescale augmented patches to width w\n",
    "h = 20  # rescale augmented patches to height h"
   ]
  },
  {
   "cell_type": "code",
   "execution_count": 57,
   "metadata": {
    "collapsed": false
   },
   "outputs": [
    {
     "name": "stdout",
     "output_type": "stream",
     "text": [
      "Created 1000 samples from 25 base images in 5.63s.\n"
     ]
    }
   ],
   "source": [
    "bg = os.path.join(base_dirname, 'bg.txt')\n",
    "\n",
    "annotation_filenames = list()\n",
    "f = FloatProgress(min=0, max=len(base_images))\n",
    "f.description = \"Augmenting '%s'-images\" % obj\n",
    "display(f)\n",
    "start = time.time()\n",
    "for idx, base_image in enumerate(base_images):\n",
    "    info_dirname = os.path.join(annotations_dirname, str(idx).zfill(4))\n",
    "    if not os.path.exists(info_dirname):\n",
    "        os.makedirs(info_dirname)\n",
    "    filename = '%s.lst' % os.path.splitext(base_image)[0].split('/')[-1]\n",
    "    annotation_filenames.append(os.path.join(info_dirname, filename))\n",
    "    \n",
    "    cmd = 'opencv_createsamples -img %s -bg %s -info %s ' % \\\n",
    "        (base_image, \n",
    "         bg,\n",
    "         annotation_filenames[-1]) + \\\n",
    "        '-num %i -w %i -h %i' % \\\n",
    "        (num,\n",
    "         w,\n",
    "         h) + \\\n",
    "        '-maxxangle 0.1 -maxyangle 0.1 -maxzangle 0.1 ' + \\\n",
    "        '-randinv -maxidev 255 -bgcolor 0 -bgthresh 0'\n",
    "    call(cmd, shell=True)\n",
    "    f.value = idx+1\n",
    "print \"Created %i samples from %i base images in %.2fs.\" % \\\n",
    "    (num*len(base_images), len(base_images), time.time()-start)"
   ]
  },
  {
   "cell_type": "code",
   "execution_count": 58,
   "metadata": {
    "collapsed": false
   },
   "outputs": [
    {
     "name": "stdout",
     "output_type": "stream",
     "text": [
      "/home/baxter/ros_ws/src/baxter_pick_and_place/data/synthetic_demo_data/robot_info.dat\n"
     ]
    }
   ],
   "source": [
    "annotations_filename = os.path.join(base_dirname, '%s_info.dat' % obj)\n",
    "print annotations_filename"
   ]
  },
  {
   "cell_type": "code",
   "execution_count": 59,
   "metadata": {
    "collapsed": false
   },
   "outputs": [],
   "source": [
    "with open(annotations_filename, 'w') as wfp:\n",
    "    for af in annotation_filenames:\n",
    "        pretext = os.path.join(*af.split('/')[-3:-1])\n",
    "        with open(af, 'r') as rfp:\n",
    "            for line in rfp:\n",
    "                wfp.write(os.path.join(pretext, line))"
   ]
  },
  {
   "cell_type": "markdown",
   "metadata": {},
   "source": [
    "## Combine annotations into *.vec"
   ]
  },
  {
   "cell_type": "code",
   "execution_count": 60,
   "metadata": {
    "collapsed": false
   },
   "outputs": [
    {
     "name": "stdout",
     "output_type": "stream",
     "text": [
      "opencv_createsamples -vec /home/baxter/ros_ws/src/baxter_pick_and_place/data/synthetic_demo_data/robot_20_20.vec -info /home/baxter/ros_ws/src/baxter_pick_and_place/data/synthetic_demo_data/robot_info.dat -w 20 -h 20 -num 1000\n",
      "\n",
      "Info file name: /home/baxter/ros_ws/src/baxter_pick_and_place/data/synthetic_demo_data/robot_info.dat\n",
      "Img file name: (NULL)\n",
      "Vec file name: /home/baxter/ros_ws/src/baxter_pick_and_place/data/synthetic_demo_data/robot_20_20.vec\n",
      "BG  file name: (NULL)\n",
      "Num: 1000\n",
      "BG color: 0\n",
      "BG threshold: 80\n",
      "Invert: FALSE\n",
      "Max intensity deviation: 40\n",
      "Max x angle: 1.1\n",
      "Max y angle: 1.1\n",
      "Max z angle: 0.5\n",
      "Show samples: FALSE\n",
      "Width: 20\n",
      "Height: 20\n",
      "Create training samples from images collection...\n",
      "Done. Created 1000 samples\n"
     ]
    }
   ],
   "source": [
    "cmd = 'opencv_createsamples -vec %s -info %s -w %i -h %i -num %i' % \\\n",
    "    (os.path.join(base_dirname, '%s_%i_%i.vec' % (obj, w, h)), \n",
    "     annotations_filename, \n",
    "     w, \n",
    "     h, \n",
    "     num*len(annotation_filenames))\n",
    "print '%s\\n' % cmd\n",
    "!{cmd}"
   ]
  },
  {
   "cell_type": "code",
   "execution_count": null,
   "metadata": {
    "collapsed": true
   },
   "outputs": [],
   "source": []
  }
 ],
 "metadata": {
  "kernelspec": {
   "display_name": "Python 2",
   "language": "python",
   "name": "python2"
  },
  "language_info": {
   "codemirror_mode": {
    "name": "ipython",
    "version": 2
   },
   "file_extension": ".py",
   "mimetype": "text/x-python",
   "name": "python",
   "nbconvert_exporter": "python",
   "pygments_lexer": "ipython2",
   "version": "2.7.7"
  }
 },
 "nbformat": 4,
 "nbformat_minor": 0
}
