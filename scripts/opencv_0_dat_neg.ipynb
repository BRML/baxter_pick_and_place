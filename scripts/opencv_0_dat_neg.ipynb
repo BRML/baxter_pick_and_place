{
 "cells": [
  {
   "cell_type": "code",
   "execution_count": 1,
   "metadata": {
    "collapsed": false
   },
   "outputs": [],
   "source": [
    "import glob\n",
    "from IPython.display import display\n",
    "from ipywidgets import FloatProgress\n",
    "import os\n",
    "import time"
   ]
  },
  {
   "cell_type": "markdown",
   "metadata": {},
   "source": [
    "# Prepare negative (background) samples\n",
    "\n",
    "As described [here](http://docs.opencv.org/2.4/doc/user_guide/ug_traincascade.html#negative-samples)."
   ]
  },
  {
   "cell_type": "code",
   "execution_count": 2,
   "metadata": {
    "collapsed": false
   },
   "outputs": [
    {
     "name": "stdout",
     "output_type": "stream",
     "text": [
      "/home/baxter/ros_ws/src/baxter_pick_and_place/data/sdd/negative\n",
      "/home/baxter/ros_ws/src/baxter_pick_and_place/data/synthetic_demo_data/negative\n"
     ]
    }
   ],
   "source": [
    "package_dirname = '/home/baxter/ros_ws/src/baxter_pick_and_place/'\n",
    "negative_dirname = os.path.join(package_dirname, \n",
    "                                'data', 'sdd', 'negative')\n",
    "base_dirname = os.path.join(package_dirname, \n",
    "                            'data', 'synthetic_demo_data')\n",
    "out_dirname = os.path.join(base_dirname, 'negative')\n",
    "\n",
    "if not os.path.exists(out_dirname):\n",
    "    os.makedirs(out_dirname)\n",
    "print negative_dirname\n",
    "print out_dirname"
   ]
  },
  {
   "cell_type": "code",
   "execution_count": 3,
   "metadata": {
    "collapsed": false
   },
   "outputs": [
    {
     "name": "stdout",
     "output_type": "stream",
     "text": [
      "Found 75 negative (background) samples.\n"
     ]
    }
   ],
   "source": [
    "negative_samples = glob.glob(os.path.join(negative_dirname, '*.jpg'))\n",
    "print \"Found %i negative (background) samples.\" % len(negative_samples)"
   ]
  },
  {
   "cell_type": "code",
   "execution_count": 4,
   "metadata": {
    "collapsed": false,
    "scrolled": true
   },
   "outputs": [
    {
     "name": "stdout",
     "output_type": "stream",
     "text": [
      "Wrote 75 'negative' samples in  8.50s to /home/baxter/ros_ws/src/baxter_pick_and_place/data/synthetic_demo_data/bg.txt.\n"
     ]
    }
   ],
   "source": [
    "negative_filename = os.path.join(base_dirname, 'bg.txt')\n",
    "\n",
    "f = FloatProgress(min=0, max=len(negative_samples))\n",
    "f.description = \"Processing negative images\"\n",
    "display(f)\n",
    "start = time.time()\n",
    "with open(negative_filename, 'w') as fp:\n",
    "    for idx, ns in enumerate(negative_samples):\n",
    "        name = ns.split('/')[-1]\n",
    "        fp.write(\"%s\\n\" % os.path.join('negative', name))\n",
    "        new = os.path.join(out_dirname, name)\n",
    "        !cp {ns} {new}\n",
    "        f.value = idx + 1\n",
    "print \"Wrote %i 'negative' samples in %.2fs to %s.\" % \\\n",
    "    (len(negative_samples), time.time()-start, negative_filename)"
   ]
  },
  {
   "cell_type": "code",
   "execution_count": null,
   "metadata": {
    "collapsed": true
   },
   "outputs": [],
   "source": []
  }
 ],
 "metadata": {
  "kernelspec": {
   "display_name": "Python 2",
   "language": "python",
   "name": "python2"
  },
  "language_info": {
   "codemirror_mode": {
    "name": "ipython",
    "version": 2
   },
   "file_extension": ".py",
   "mimetype": "text/x-python",
   "name": "python",
   "nbconvert_exporter": "python",
   "pygments_lexer": "ipython2",
   "version": "2.7.6"
  }
 },
 "nbformat": 4,
 "nbformat_minor": 0
}
