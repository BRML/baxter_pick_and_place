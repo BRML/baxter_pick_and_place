{
 "cells": [
  {
   "cell_type": "code",
   "execution_count": 1,
   "metadata": {
    "collapsed": true
   },
   "outputs": [],
   "source": [
    "import glob\n",
    "import os\n",
    "from shutil import rmtree"
   ]
  },
  {
   "cell_type": "code",
   "execution_count": 2,
   "metadata": {
    "collapsed": true
   },
   "outputs": [],
   "source": [
    "def file_len(fname):\n",
    "    with open(fname) as f:\n",
    "        for i, l in enumerate(f):\n",
    "            pass\n",
    "    return i + 1"
   ]
  },
  {
   "cell_type": "code",
   "execution_count": 3,
   "metadata": {
    "collapsed": true
   },
   "outputs": [],
   "source": [
    "def next_smaller_base2_int(number):\n",
    "    nsb = 1\n",
    "    while nsb < number:\n",
    "        nsb *= 2\n",
    "    return nsb/2"
   ]
  },
  {
   "cell_type": "markdown",
   "metadata": {},
   "source": [
    "# Train OpenCV cascade classifier\n",
    "See [cascade training documentation]( http://docs.opencv.org/2.4/doc/user_guide/ug_traincascade.html#cascade-training)."
   ]
  },
  {
   "cell_type": "code",
   "execution_count": 4,
   "metadata": {
    "collapsed": true
   },
   "outputs": [],
   "source": [
    "obj = 'duplo_brick'"
   ]
  },
  {
   "cell_type": "code",
   "execution_count": 5,
   "metadata": {
    "collapsed": false
   },
   "outputs": [
    {
     "name": "stdout",
     "output_type": "stream",
     "text": [
      "\\\\srv-file.brml.tum.de\\nthome\\mludersdorfer\\reallyMyDocuments\\code\\baxter_pick_and_place\n"
     ]
    }
   ],
   "source": [
    "if os.name == 'posix':\n",
    "    code_dirname = os.path.join(u'/home', 'baxter', 'ros_ws', 'src')\n",
    "elif os.name == 'nt':\n",
    "    code_dirname = os.path.join(u'\\\\\\srv-file.brml.tum.de', 'nthome', 'mludersdorfer', 'reallyMyDocuments', 'code')\n",
    "else:\n",
    "    print 'wtf?'\n",
    "\n",
    "package_dirname = os.path.join(code_dirname, 'baxter_pick_and_place')\n",
    "print package_dirname"
   ]
  },
  {
   "cell_type": "code",
   "execution_count": 6,
   "metadata": {
    "collapsed": false
   },
   "outputs": [
    {
     "name": "stdout",
     "output_type": "stream",
     "text": [
      "Train 'duplo_brick'-classifier using 512 pos. and 75 neg. samples.\n"
     ]
    }
   ],
   "source": [
    "data = os.path.join(package_dirname, 'data', 'synthetic_demo_data')\n",
    "vec = os.path.join(data, '%s_20_20.vec' % obj)\n",
    "bg = os.path.join(data, 'bg.txt')\n",
    "num_stages = 17\n",
    "precalc_val_buf_size = 256\n",
    "precalc_idx_buf_size = 256\n",
    "acceptance_ratio_break_value = 10e-5\n",
    "feature_type = 'HAAR'\n",
    "w = 20\n",
    "h = 20\n",
    "bt = 'GAB'\n",
    "min_hit_rate = 0.999\n",
    "max_false_alarm_rate = 0.001\n",
    "weight_trim_rate = 0.95\n",
    "max_depth = 1\n",
    "max_weak_count = 150\n",
    "mode = 'ALL'\n",
    "\n",
    "num_neg = file_len(bg)\n",
    "num_vec = file_len(os.path.join(data, '%s_info.dat' % obj))\n",
    "num_pos = (num_vec - num_neg)/(1+(num_stages-1)*(1-min_hit_rate))\n",
    "num_pos = next_smaller_base2_int(num_pos)\n",
    "print \"Train '%s'-classifier using %i pos. and %i neg. samples.\" % \\\n",
    "    (obj, num_pos, num_neg)"
   ]
  },
  {
   "cell_type": "code",
   "execution_count": 7,
   "metadata": {
    "collapsed": false,
    "scrolled": false
   },
   "outputs": [
    {
     "name": "stdout",
     "output_type": "stream",
     "text": [
      "opencv_traincascade -data \\\\srv-file.brml.tum.de\\nthome\\mludersdorfer\\reallyMyDocuments\\code\\baxter_pick_and_place\\data\\synthetic_demo_data -vec \\\\srv-file.brml.tum.de\\nthome\\mludersdorfer\\reallyMyDocuments\\code\\baxter_pick_and_place\\data\\synthetic_demo_data\\duplo_brick_20_20.vec -bg \\\\srv-file.brml.tum.de\\nthome\\mludersdorfer\\reallyMyDocuments\\code\\baxter_pick_and_place\\data\\synthetic_demo_data\\bg.txt -numPos 512 -numNeg 75 -numStages 17 -precalcValBufSize 256 -precalcIdxBufSize 256 -acceptanceRatioBreakValue 0.000100 -featureType HAAR -w 20 -h 20 -bt GAB -minHitRate 0.999000 -maxFalseAlarmRate 0.001000 -weightTrimRate 0.950000 -maxDepth 1 -maxWeakCount 150 -mode ALL\n",
      "\n",
      "---------------------------------------------------------------------------------\n",
      "Training parameters are pre-loaded from the parameter file in data folder!\n",
      "Please empty this folder if you want to use a NEW set of training parameters.\n",
      "---------------------------------------------------------------------------------\n",
      "PARAMETERS:\n",
      "cascadeDirName: \\\\srv-file.brml.tum.de\\nthome\\mludersdorfer\\reallyMyDocuments\\code\\baxter_pick_and_place\\data\\synthetic_demo_data\n",
      "vecFileName: \\\\srv-file.brml.tum.de\\nthome\\mludersdorfer\\reallyMyDocuments\\code\\baxter_pick_and_place\\data\\synthetic_demo_data\\duplo_brick_20_20.vec\n",
      "bgFileName: \\\\srv-file.brml.tum.de\\nthome\\mludersdorfer\\reallyMyDocuments\\code\\baxter_pick_and_place\\data\\synthetic_demo_data\\bg.txt\n",
      "numPos: 512\n",
      "numNeg: 75\n",
      "numStages: 17\n",
      "precalcValBufSize[Mb] : 256\n",
      "precalcIdxBufSize[Mb] : 256\n",
      "stageType: BOOST\n",
      "featureType: HAAR\n",
      "sampleWidth: 20\n",
      "sampleHeight: 20\n",
      "boostType: GAB\n",
      "minHitRate: 0.999\n",
      "maxFalseAlarmRate: 0.001\n",
      "weightTrimRate: 0.95\n",
      "maxDepth: 1\n",
      "maxWeakCount: 150\n",
      "mode: ALL\n",
      "\n",
      "Stages 0-16 are loaded\n"
     ]
    }
   ],
   "source": [
    "cmd = ('opencv_traincascade ' + \n",
    "       '-data %s ' % data +\n",
    "       '-vec %s ' % vec + \n",
    "       '-bg %s ' % bg + \n",
    "       '-numPos %i ' % num_pos + \n",
    "       '-numNeg %i ' % num_neg + \n",
    "       '-numStages %i ' % num_stages + \n",
    "       '-precalcValBufSize %i ' % precalc_val_buf_size + \n",
    "       '-precalcIdxBufSize %i ' % precalc_idx_buf_size + \n",
    "       '-acceptanceRatioBreakValue %f ' % acceptance_ratio_break_value + \n",
    "       '-featureType %s ' % feature_type + \n",
    "       '-w %i ' % w + \n",
    "       '-h %i ' % h + \n",
    "       '-bt %s ' % bt + \n",
    "       '-minHitRate %f ' % min_hit_rate + \n",
    "       '-maxFalseAlarmRate %f ' % max_false_alarm_rate +\n",
    "       '-weightTrimRate %f ' % weight_trim_rate + \n",
    "       '-maxDepth %i ' % max_depth + \n",
    "       '-maxWeakCount %i ' % max_weak_count +\n",
    "       '-mode %s' % mode)\n",
    "print '%s\\n'% cmd\n",
    "!{cmd}"
   ]
  },
  {
   "cell_type": "markdown",
   "metadata": {},
   "source": [
    "## Rename trained classifier"
   ]
  },
  {
   "cell_type": "code",
   "execution_count": 8,
   "metadata": {
    "collapsed": false
   },
   "outputs": [],
   "source": [
    "old = os.path.join(data, 'cascade.xml')\n",
    "new = os.path.join(data, '%s_cascade.xml' % obj)\n",
    "if os.path.exists(new):\n",
    "    os.remove(new)\n",
    "os.rename(old, new)"
   ]
  },
  {
   "cell_type": "markdown",
   "metadata": {},
   "source": [
    "## Move temporary files out of the way"
   ]
  },
  {
   "cell_type": "code",
   "execution_count": 9,
   "metadata": {
    "collapsed": false
   },
   "outputs": [],
   "source": [
    "xml_dirname = os.path.join(data, 'temp_cascade', '%s' % obj)\n",
    "if os.path.exists(xml_dirname):\n",
    "    rmtree(xml_dirname)\n",
    "os.makedirs(xml_dirname)\n",
    "\n",
    "xml_files = glob.glob(os.path.join(data, '*.xml'))\n",
    "xml_files = [xf for xf in xml_files if 'cascade' not in xf]\n",
    "for xf in xml_files:\n",
    "    new_xf = os.path.join(xml_dirname, xf.split('\\\\')[-1])\n",
    "    os.rename(xf, new_xf)"
   ]
  },
  {
   "cell_type": "code",
   "execution_count": null,
   "metadata": {
    "collapsed": true
   },
   "outputs": [],
   "source": []
  }
 ],
 "metadata": {
  "kernelspec": {
   "display_name": "Python 2",
   "language": "python",
   "name": "python2"
  },
  "language_info": {
   "codemirror_mode": {
    "name": "ipython",
    "version": 2
   },
   "file_extension": ".py",
   "mimetype": "text/x-python",
   "name": "python",
   "nbconvert_exporter": "python",
   "pygments_lexer": "ipython2",
   "version": "2.7.7"
  }
 },
 "nbformat": 4,
 "nbformat_minor": 0
}
