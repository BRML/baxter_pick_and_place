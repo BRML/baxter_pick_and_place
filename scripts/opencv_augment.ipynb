{
 "cells": [
  {
   "cell_type": "code",
   "execution_count": 47,
   "metadata": {
    "collapsed": true
   },
   "outputs": [],
   "source": [
    "import cv2\n",
    "import glob\n",
    "import os\n",
    "from subprocess import call\n",
    "import time"
   ]
  },
  {
   "cell_type": "markdown",
   "metadata": {},
   "source": [
    "# Augment data set\n",
    "\n",
    "As described [here](http://docs.opencv.org/2.4/doc/user_guide/ug_traincascade.html#creating-training-set-from-a-single-image-and-a-collection-of-backgrounds-with-a-single-vec-file-as-an-output)."
   ]
  },
  {
   "cell_type": "code",
   "execution_count": 8,
   "metadata": {
    "collapsed": true
   },
   "outputs": [],
   "source": [
    "obj = 'bin'"
   ]
  },
  {
   "cell_type": "markdown",
   "metadata": {},
   "source": [
    "## Create cut-out base images from *_info.dat\n",
    "\n",
    "Which was created with `opencv_dat.ipynb`."
   ]
  },
  {
   "cell_type": "code",
   "execution_count": 59,
   "metadata": {
    "collapsed": true
   },
   "outputs": [],
   "source": [
    "package_dirname = '/home/baxter/ros_ws/src/baxter_pick_and_place/'\n",
    "\n",
    "positive_dirname = os.path.join(package_dirname, 'data', 'sdd')\n",
    "\n",
    "base_dirname = os.path.join(package_dirname, \n",
    "                            'data', 'synthetic_demo_data')\n",
    "out_dirname = os.path.join(base_dirname, 'base', obj)\n",
    "annotations_dirname = os.path.join(base_dirname, obj)\n",
    "                           \n",
    "if not os.path.exists(out_dirname):\n",
    "    os.makedirs(out_dirname)\n",
    "if not os.path.exists(annotations_dirname):\n",
    "    os.makedirs(annotations_dirname)"
   ]
  },
  {
   "cell_type": "code",
   "execution_count": 60,
   "metadata": {
    "collapsed": false,
    "scrolled": false
   },
   "outputs": [
    {
     "name": "stdout",
     "output_type": "stream",
     "text": [
      "Wrote 210 cut-out images into /home/baxter/ros_ws/src/baxter_pick_and_place/data/synthetic_demo_data/base/bin.\n"
     ]
    }
   ],
   "source": [
    "info_filename = os.path.join(positive_dirname, '%s_info.dat' % obj)\n",
    "\n",
    "with open(info_filename, 'r') as fp:\n",
    "    info = fp.read().splitlines()\n",
    "\n",
    "for i in info:\n",
    "    pth, _, roi = i.split('  ')\n",
    "    img = cv2.imread(base_dirname + pth)\n",
    "    roi = [int(a) for a in roi.split(' ')]\n",
    "    x, y, w, h = roi\n",
    "    img = img[y:y+h, x:x+w]\n",
    "    cv2.imwrite(os.path.join(out_dirname, pth.split('/')[-1]), img)\n",
    "print \"Wrote %i cut-out images into %s.\" % (len(info), out_dirname)"
   ]
  },
  {
   "cell_type": "markdown",
   "metadata": {},
   "source": [
    "## Augment cut-out images"
   ]
  },
  {
   "cell_type": "code",
   "execution_count": 22,
   "metadata": {
    "collapsed": false
   },
   "outputs": [
    {
     "name": "stdout",
     "output_type": "stream",
     "text": [
      "Found 210 cut-out samples.\n"
     ]
    }
   ],
   "source": [
    "base_images = glob.glob(os.path.join(out_dirname, '*.jpg'))\n",
    "print \"Found %i cut-out samples.\" % len(base_images)"
   ]
  },
  {
   "cell_type": "code",
   "execution_count": 48,
   "metadata": {
    "collapsed": false
   },
   "outputs": [
    {
     "name": "stdout",
     "output_type": "stream",
     "text": [
      "Created 4200 samples from 210 base images in 64.87s.\n"
     ]
    }
   ],
   "source": [
    "num = 20\n",
    "w = 20\n",
    "h = 20\n",
    "\n",
    "bg = os.path.join(base_dirname, 'bg.txt')\n",
    "\n",
    "start = time.time()\n",
    "for idx, base_image in enumerate(base_images):\n",
    "    cmd = 'opencv_createsamples -img %s -bg %s -info %s -num %i -w %i -h %i' % \\\n",
    "        (base_image, \n",
    "         bg,\n",
    "         os.path.join(annotations_dirname, \n",
    "                      os.path.join('%4i' % idx, \n",
    "                                   '%s.lst' % os.path.splitext(base_image)[0].split('/')[-1])), \n",
    "         num,\n",
    "         w,\n",
    "         h) + \\\n",
    "        '-maxxangle 0.1 -maxyangle 0.1 -maxzangle 0.1 -randinv -maxidev 255 -bgcolor 0 -bgthresh 0'\n",
    "    call(cmd, shell=True)\n",
    "print \"Created %i samples from %i base images in %.2fs.\" % (num*len(base_images), \n",
    "                                                            len(base_images), \n",
    "                                                            time.time() - start)"
   ]
  },
  {
   "cell_type": "markdown",
   "metadata": {},
   "source": [
    "## Combine annotations into *.vec"
   ]
  },
  {
   "cell_type": "code",
   "execution_count": 49,
   "metadata": {
    "collapsed": false
   },
   "outputs": [
    {
     "name": "stdout",
     "output_type": "stream",
     "text": [
      "Found 210 annotation files.\n"
     ]
    }
   ],
   "source": [
    "annotation_filenames = glob.glob(os.path.join(annotations_dirname, '*.lst'))\n",
    "print \"Found %i annotation files.\" % len(annotation_filenames)"
   ]
  },
  {
   "cell_type": "code",
   "execution_count": 58,
   "metadata": {
    "collapsed": false
   },
   "outputs": [
    {
     "name": "stdout",
     "output_type": "stream",
     "text": [
      "opencv_createsamples -vec /home/baxter/ros_ws/src/baxter_pick_and_place/data/synthetic_demo_data/bin_20_20.vec -info /home/baxter/ros_ws/src/baxter_pick_and_place/data/synthetic_demo_data/bin_info.dat -w 20 -h 20 -num 4200\n",
      "\n",
      "Info file name: /home/baxter/ros_ws/src/baxter_pick_and_place/data/synthetic_demo_data/bin_info.dat\n",
      "Img file name: (NULL)\n",
      "Vec file name: /home/baxter/ros_ws/src/baxter_pick_and_place/data/synthetic_demo_data/bin_20_20.vec\n",
      "BG  file name: (NULL)\n",
      "Num: 4200\n",
      "BG color: 0\n",
      "BG threshold: 80\n",
      "Invert: FALSE\n",
      "Max intensity deviation: 40\n",
      "Max x angle: 1.1\n",
      "Max y angle: 1.1\n",
      "Max z angle: 0.5\n",
      "Show samples: FALSE\n",
      "Width: 20\n",
      "Height: 20\n",
      "Create training samples from images collection...\n",
      "Done. Created 4200 samples\n"
     ]
    }
   ],
   "source": [
    "annotations_filename = os.path.join(annotations_dirname.split(obj)[0], '%s_info.dat' % obj)\n",
    "\n",
    "with open(annotations_filename, 'w') as wfp:\n",
    "    for af in annotation_filenames:\n",
    "        with open(af, 'r') as rfp:\n",
    "            for line in rfp:\n",
    "                wfp.write('%s/%s' % (obj, line))\n",
    "                \n",
    "cmd = 'opencv_createsamples -vec %s -info %s -w %i -h %i -num %i' % \\\n",
    "    (os.path.join(annotations_dirname.split(obj)[0], '%s_%i_%i.vec' % (obj, w, h)), \n",
    "     annotations_filename, \n",
    "     w, \n",
    "     h, \n",
    "     num*len(annotation_filenames))\n",
    "print '%s\\n' % cmd\n",
    "!{cmd}"
   ]
  },
  {
   "cell_type": "code",
   "execution_count": null,
   "metadata": {
    "collapsed": true
   },
   "outputs": [],
   "source": []
  }
 ],
 "metadata": {
  "kernelspec": {
   "display_name": "Python 2",
   "language": "python",
   "name": "python2"
  },
  "language_info": {
   "codemirror_mode": {
    "name": "ipython",
    "version": 2
   },
   "file_extension": ".py",
   "mimetype": "text/x-python",
   "name": "python",
   "nbconvert_exporter": "python",
   "pygments_lexer": "ipython2",
   "version": "2.7.6"
  }
 },
 "nbformat": 4,
 "nbformat_minor": 0
}
